{
 "cells": [
  {
   "cell_type": "code",
   "execution_count": 1,
   "metadata": {},
   "outputs": [],
   "source": [
    "import pandas as pd\n",
    "import numpy as np"
   ]
  },
  {
   "cell_type": "markdown",
   "metadata": {},
   "source": [
    "# Task 2\n",
    "\n",
    "I download data from IPUMS-USA, from year 2001 onwards. I use the following variables:\n",
    "- Demographics: `SEX`, `AGE`, `RACE`, `MARST`, `NCHILD`, `EDUC`\n",
    "- Geographic: `STATEFIP`, `COUNTYFIP`, `METAREA`\n",
    "- `TRANTIME`\n",
    "- Work variables: `OCC2010`, `IND1990`, `EMPSTAT`, `LABFORCE`, `UHRSWORK` (as close as I can get to `UHRSWORK1`), `INCWAGE` (as close as I can get to `EARNWEEK`)"
   ]
  },
  {
   "cell_type": "code",
   "execution_count": 2,
   "metadata": {},
   "outputs": [],
   "source": [
    "data = pd.read_csv('census_data.csv')"
   ]
  },
  {
   "cell_type": "markdown",
   "metadata": {},
   "source": [
    "## Data cleaning \n",
    "\n",
    "Here I remove some NA values for the variables used in the next step. Specifically, I remove:\n",
    "- `0` for `TRANTIME`\n",
    "- `1` for `EDUC`\n",
    "\n",
    "I also recode `MARST` variable, specifically:\n",
    "- `1, 2` are recoded to `married`\n",
    "- `3, 4, 5, 6` are recoded to `single`"
   ]
  },
  {
   "cell_type": "code",
   "execution_count": 3,
   "metadata": {},
   "outputs": [],
   "source": [
    "# NA variable name/values pairs\n",
    "NA_values = {\n",
    "    'TRANTIME': [0],\n",
    "    'EDUC': [1],\n",
    "}\n",
    "\n",
    "# Remove NA values\n",
    "for variable, nas in NA_values.items():\n",
    "    data.loc[data[variable].isin(nas), variable] = None\n",
    "    \n",
    "# Key for replacing MARST values\n",
    "marst_replace = {\n",
    "    1: 'married',\n",
    "    2: 'married',\n",
    "    3: 'single',\n",
    "    4: 'single',\n",
    "    5: 'single',\n",
    "    6: 'single',\n",
    "}\n",
    "\n",
    "# replace MARST values\n",
    "data['MARST'] = data['MARST'].replace(marst_replace)"
   ]
  },
  {
   "cell_type": "markdown",
   "metadata": {},
   "source": [
    "## Commuting time\n",
    "\n",
    "First I restrict the sample to `LABFORCE == 2` (in the labor force) and `AGE` between 25 and 55. I also drop all entries with NA values in any of `MARST`, `SEX`, `EDUC` or `TRANTIME`.\n",
    "\n",
    "Then I compute a pivot table, with values of `MARST` and `SEX` in the columns, and `EDUC` in the rows, with the value being the weighted mean of `TRANTIME`, weighted using the `PERWT` column."
   ]
  },
  {
   "cell_type": "code",
   "execution_count": 4,
   "metadata": {},
   "outputs": [],
   "source": [
    "data = data.query('LABFORCE == 2 & AGE >= 25 & AGE <= 55').copy()\n",
    "data = data.dropna(subset = ['MARST', 'SEX', 'EDUC', 'TRANTIME'])"
   ]
  },
  {
   "cell_type": "code",
   "execution_count": 5,
   "metadata": {},
   "outputs": [],
   "source": [
    "# Helper function for computing the weighted mean (weight and value column name fixed)\n",
    "weight_col = 'PERWT'\n",
    "vales_col = 'TRANTIME'\n",
    "\n",
    "# Main function\n",
    "def weighted_mean(data):\n",
    "    return np.average(data[vales_col], weights = data[weight_col])"
   ]
  },
  {
   "cell_type": "code",
   "execution_count": 6,
   "metadata": {},
   "outputs": [],
   "source": [
    "# Do the calculations\n",
    "table = data.groupby(['SEX', 'MARST', 'EDUC']).apply(weighted_mean).unstack()"
   ]
  },
  {
   "cell_type": "code",
   "execution_count": 7,
   "metadata": {},
   "outputs": [
    {
     "data": {
      "text/html": [
       "<div>\n",
       "<style scoped>\n",
       "    .dataframe tbody tr th:only-of-type {\n",
       "        vertical-align: middle;\n",
       "    }\n",
       "\n",
       "    .dataframe tbody tr th {\n",
       "        vertical-align: top;\n",
       "    }\n",
       "\n",
       "    .dataframe thead th {\n",
       "        text-align: right;\n",
       "    }\n",
       "</style>\n",
       "<table border=\"1\" class=\"dataframe\">\n",
       "  <thead>\n",
       "    <tr style=\"text-align: right;\">\n",
       "      <th></th>\n",
       "      <th>EDUC</th>\n",
       "      <th>0.0</th>\n",
       "      <th>2.0</th>\n",
       "      <th>3.0</th>\n",
       "      <th>4.0</th>\n",
       "      <th>5.0</th>\n",
       "      <th>6.0</th>\n",
       "      <th>7.0</th>\n",
       "      <th>8.0</th>\n",
       "      <th>10.0</th>\n",
       "      <th>11.0</th>\n",
       "    </tr>\n",
       "    <tr>\n",
       "      <th>SEX</th>\n",
       "      <th>MARST</th>\n",
       "      <th></th>\n",
       "      <th></th>\n",
       "      <th></th>\n",
       "      <th></th>\n",
       "      <th></th>\n",
       "      <th></th>\n",
       "      <th></th>\n",
       "      <th></th>\n",
       "      <th></th>\n",
       "      <th></th>\n",
       "    </tr>\n",
       "  </thead>\n",
       "  <tbody>\n",
       "    <tr>\n",
       "      <th rowspan=\"2\" valign=\"top\">1</th>\n",
       "      <th>married</th>\n",
       "      <td>29.686423</td>\n",
       "      <td>28.668993</td>\n",
       "      <td>29.119111</td>\n",
       "      <td>28.560696</td>\n",
       "      <td>28.248720</td>\n",
       "      <td>28.199053</td>\n",
       "      <td>28.379987</td>\n",
       "      <td>28.673927</td>\n",
       "      <td>29.539546</td>\n",
       "      <td>28.509616</td>\n",
       "    </tr>\n",
       "    <tr>\n",
       "      <th>single</th>\n",
       "      <td>29.029995</td>\n",
       "      <td>28.882502</td>\n",
       "      <td>27.855402</td>\n",
       "      <td>27.338305</td>\n",
       "      <td>26.827252</td>\n",
       "      <td>26.637944</td>\n",
       "      <td>26.108959</td>\n",
       "      <td>26.732929</td>\n",
       "      <td>26.985904</td>\n",
       "      <td>26.321075</td>\n",
       "    </tr>\n",
       "    <tr>\n",
       "      <th rowspan=\"2\" valign=\"top\">2</th>\n",
       "      <th>married</th>\n",
       "      <td>25.317746</td>\n",
       "      <td>23.425783</td>\n",
       "      <td>22.382938</td>\n",
       "      <td>21.578335</td>\n",
       "      <td>21.530282</td>\n",
       "      <td>22.332150</td>\n",
       "      <td>23.511762</td>\n",
       "      <td>24.279355</td>\n",
       "      <td>25.340071</td>\n",
       "      <td>26.004190</td>\n",
       "    </tr>\n",
       "    <tr>\n",
       "      <th>single</th>\n",
       "      <td>27.875502</td>\n",
       "      <td>25.482029</td>\n",
       "      <td>23.533603</td>\n",
       "      <td>22.867492</td>\n",
       "      <td>23.268023</td>\n",
       "      <td>23.976442</td>\n",
       "      <td>24.881952</td>\n",
       "      <td>25.491811</td>\n",
       "      <td>26.693739</td>\n",
       "      <td>26.783194</td>\n",
       "    </tr>\n",
       "  </tbody>\n",
       "</table>\n",
       "</div>"
      ],
      "text/plain": [
       "EDUC              0.0        2.0        3.0        4.0        5.0        6.0   \\\n",
       "SEX MARST                                                                       \n",
       "1   married  29.686423  28.668993  29.119111  28.560696  28.248720  28.199053   \n",
       "    single   29.029995  28.882502  27.855402  27.338305  26.827252  26.637944   \n",
       "2   married  25.317746  23.425783  22.382938  21.578335  21.530282  22.332150   \n",
       "    single   27.875502  25.482029  23.533603  22.867492  23.268023  23.976442   \n",
       "\n",
       "EDUC              7.0        8.0        10.0       11.0  \n",
       "SEX MARST                                                \n",
       "1   married  28.379987  28.673927  29.539546  28.509616  \n",
       "    single   26.108959  26.732929  26.985904  26.321075  \n",
       "2   married  23.511762  24.279355  25.340071  26.004190  \n",
       "    single   24.881952  25.491811  26.693739  26.783194  "
      ]
     },
     "execution_count": 7,
     "metadata": {},
     "output_type": "execute_result"
    }
   ],
   "source": [
    "# Show result\n",
    "table"
   ]
  },
  {
   "cell_type": "code",
   "execution_count": 8,
   "metadata": {},
   "outputs": [],
   "source": [
    "# Do some recoding (columns to 1,2,3,4, as specified, and save as csv)\n",
    "table.index = [1,2,3,4]\n",
    "table.columns.name = None\n",
    "table.to_csv('Mean commute times.csv')"
   ]
  }
 ],
 "metadata": {
  "kernelspec": {
   "display_name": "Python 3",
   "language": "python",
   "name": "python3"
  },
  "language_info": {
   "codemirror_mode": {
    "name": "ipython",
    "version": 3
   },
   "file_extension": ".py",
   "mimetype": "text/x-python",
   "name": "python",
   "nbconvert_exporter": "python",
   "pygments_lexer": "ipython3",
   "version": "3.7.3"
  }
 },
 "nbformat": 4,
 "nbformat_minor": 2
}
